{
 "cells": [
  {
   "cell_type": "markdown",
   "metadata": {},
   "source": [
    "#### Problem 1 (30 points)\n",
    "\n",
    "#### Problem 1.1 (5 points): \n",
    "\n",
    "Write a function to calculate the distance between two points in a 2D space. The coodinates of a point is given by a list of two numbers. Two test examples are provided below. (5 points)\n",
    "\n",
    "\\begin{align}\n",
    "X=(x_1,x_2)\\\\\n",
    "Y=(y_1,y_2)\\\\\n",
    "D(X,Y)=\\sqrt{(x_1-y_1)^2+(x_2-y_2)^2}\n",
    "\\end{align}"
   ]
  },
  {
   "cell_type": "code",
   "execution_count": 6,
   "metadata": {},
   "outputs": [
    {
     "data": {
      "text/plain": [
       "1.4142135623730951"
      ]
     },
     "execution_count": 6,
     "metadata": {},
     "output_type": "execute_result"
    }
   ],
   "source": [
    "def line_length(point1, point2):\n",
    "    \"\"\"returns the distance between 2 given (x, y) ordered pairs\"\"\"\n",
    "    distance = (((point2[0] - point1[0]) ** 2) + ((point2[1] - point1[1]) ** 2)) ** 0.5\n",
    "    return distance\n",
    "\n",
    "\n",
    "line_length([1, 1], [2, 2])"
   ]
  },
  {
   "cell_type": "code",
   "execution_count": 9,
   "metadata": {},
   "outputs": [
    {
     "data": {
      "text/plain": [
       "1.4142135623730951"
      ]
     },
     "execution_count": 9,
     "metadata": {},
     "output_type": "execute_result"
    }
   ],
   "source": [
    "line_length([1,1],[2,2])"
   ]
  },
  {
   "cell_type": "code",
   "execution_count": 8,
   "metadata": {},
   "outputs": [
    {
     "data": {
      "text/plain": [
       "2.23606797749979"
      ]
     },
     "execution_count": 8,
     "metadata": {},
     "output_type": "execute_result"
    }
   ],
   "source": [
    "line_length([2,2],[3,4])"
   ]
  },
  {
   "cell_type": "markdown",
   "metadata": {},
   "source": [
    "#### Problem 1.2 (10 points): \n",
    "\n",
    "Write a function to calculate the length of a path. This path is defined by a list of points. The first point is connected to the second point by a straight line. The second point is connected to the third point by a straight line and so on. The path lenth is the sum of the lengths of all those connections. This function should use the first function above. \n"
   ]
  },
  {
   "cell_type": "code",
   "execution_count": 5,
   "metadata": {},
   "outputs": [
    {
     "data": {
      "text/plain": [
       "3.6502815398728847"
      ]
     },
     "execution_count": 5,
     "metadata": {},
     "output_type": "execute_result"
    }
   ],
   "source": [
    "def line_length(point1, point2):\n",
    "    \"\"\"returns the distance between 2 given (x, y) ordered pairs\"\"\"\n",
    "    distance = (((point2[0] - point1[0]) ** 2) + ((point2[1] - point1[1]) ** 2)) ** 0.5\n",
    "    return distance\n",
    "\n",
    "\n",
    "def path_length(points_list):\n",
    "    \"\"\"given a list of (x, y) ordered pairs, returns the sum of distances between those points\"\"\"\n",
    "    path_length = 0\n",
    "    for i, point in enumerate(points_list):\n",
    "        if i != 0:\n",
    "            distance = line_length(point, points_list[i - 1])\n",
    "            path_length += distance\n",
    "        else:\n",
    "            continue\n",
    "    return path_length\n",
    "\n",
    "\n",
    "path_length([[1, 1], [2, 2], [3, 4]])"
   ]
  },
  {
   "cell_type": "code",
   "execution_count": 6,
   "metadata": {},
   "outputs": [
    {
     "data": {
      "text/plain": [
       "3.6502815398728847"
      ]
     },
     "execution_count": 6,
     "metadata": {},
     "output_type": "execute_result"
    }
   ],
   "source": [
    "path_length([[1,1],[2,2],[3,4]])"
   ]
  },
  {
   "cell_type": "code",
   "execution_count": 7,
   "metadata": {},
   "outputs": [
    {
     "data": {
      "text/plain": [
       "5.8863495173726745"
      ]
     },
     "execution_count": 7,
     "metadata": {},
     "output_type": "execute_result"
    }
   ],
   "source": [
    "path_length([[1,1],[2,2],[3,4],[5,5]])"
   ]
  },
  {
   "cell_type": "markdown",
   "metadata": {},
   "source": [
    "#### Problem 1.3 (10 points):  \n",
    "\n",
    "Ask the user for a series of points defined by the X and Y coordinates and save these points to a list. Please keep asking users for more points until the user enters \"end\". Compute the length of the path given by the user using the second function and print out the length.\n"
   ]
  },
  {
   "cell_type": "code",
   "execution_count": 11,
   "metadata": {},
   "outputs": [
    {
     "name": "stdin",
     "output_type": "stream",
     "text": [
      "Please enter the X coordinate:  1\n",
      "Please enter the Y coordinate:  1\n",
      "Please enter the X coordinate:  2\n",
      "Please enter the Y coordinate:  2\n",
      "Please enter the X coordinate:  3\n",
      "Please enter the Y coordinate:  4\n",
      "Please enter the X coordinate:  end\n"
     ]
    },
    {
     "name": "stdout",
     "output_type": "stream",
     "text": [
      "Path length is 3.6502815398728847\n"
     ]
    }
   ],
   "source": [
    "def line_length(point1, point2):\n",
    "    \"\"\"returns the distance between 2 given (x, y) ordered pairs\"\"\"\n",
    "    distance = (((point2[0] - point1[0]) ** 2) + ((point2[1] - point1[1]) ** 2)) ** 0.5\n",
    "    return distance\n",
    "\n",
    "\n",
    "def path_length(points_list):\n",
    "    \"\"\"given a list of (x, y) ordered pairs, returns the sum of distances between those points\"\"\"\n",
    "    path_length = 0\n",
    "    for i, point in enumerate(points_list):\n",
    "        if i != 0:\n",
    "            distance = line_length(point, points_list[i - 1])\n",
    "            path_length += distance\n",
    "        else:\n",
    "            continue\n",
    "    return path_length\n",
    "\n",
    "\n",
    "points_list = []\n",
    "x_userinput = input(\"Please enter the X coordinate: \")\n",
    "while True:\n",
    "    if x_userinput == \"end\":\n",
    "        break\n",
    "    else:\n",
    "        x_coord = int(x_userinput)\n",
    "        y_coord = int(input(\"Please enter the Y coordinate: \"))\n",
    "        ordered_pair = [x_coord, y_coord]\n",
    "        points_list.append(ordered_pair)\n",
    "        x_userinput = input(\"Please enter the X coordinate: \")\n",
    "        \n",
    "print(f\"Path length is {path_length(points_list)}\")"
   ]
  },
  {
   "cell_type": "markdown",
   "metadata": {},
   "source": [
    "#### Problem 1.4 (5 points):  \n",
    "\n",
    "Plot the path using Matplotlib (i.e x=[x_1,x_2...],y=[y_1,y_2,...])"
   ]
  },
  {
   "cell_type": "code",
   "execution_count": 8,
   "metadata": {},
   "outputs": [
    {
     "data": {
      "text/plain": [
       "[<matplotlib.lines.Line2D at 0x7fcefaba3fd0>]"
      ]
     },
     "execution_count": 8,
     "metadata": {},
     "output_type": "execute_result"
    },
    {
     "data": {
      "image/png": "[encoded data removed]",
      "text/plain": [
       "<Figure size 432x288 with 1 Axes>"
      ]
     },
     "metadata": {
      "needs_background": "light"
     },
     "output_type": "display_data"
    }
   ],
   "source": [
    "import matplotlib\n",
    "\n",
    "\n",
    "def line_length(point1, point2):\n",
    "    \"\"\"returns the distance between 2 given (x, y) ordered pairs\"\"\"\n",
    "    distance = (((point2[0] - point1[0]) ** 2) + ((point2[1] - point1[1]) ** 2)) ** 0.5\n",
    "    return distance\n",
    "\n",
    "\n",
    "def path_length(points_list):\n",
    "    \"\"\"given a list of (x, y) ordered pairs, returns the sum of distances between those points\"\"\"\n",
    "    path_length = 0\n",
    "    for i, point in enumerate(points_list):\n",
    "        if i != 0:\n",
    "            distance = line_length(point, points_list[i - 1])\n",
    "            path_length += distance\n",
    "        else:\n",
    "            continue\n",
    "    return path_length\n",
    "\n",
    "\n",
    "points_list = []\n",
    "x_userinput = input(\"Please enter the X coordinate: \")\n",
    "while True:\n",
    "    if x_userinput == \"end\":\n",
    "        break\n",
    "    else:\n",
    "        x_coord = int(x_userinput)\n",
    "        y_coord = int(input(\"Please enter the Y coordinate: \"))\n",
    "        ordered_pair = [x_coord, y_coord]\n",
    "        points_list.append(ordered_pair)\n",
    "        x_userinput = input(\"Please enter the X coordinate: \")\n",
    "        \n",
    "print(f\"Path length is {path_length(points_list)}\")"
   ]
  },
  {
   "cell_type": "markdown",
   "metadata": {},
   "source": [
    "#### Problem 2 (30 points)\n",
    "\n",
    "Write a script that enables the user to enter mathematical word problems like “Add two and three” and “Divide nine by three”, then use string processing to break apart the string into the numbers and the operation and return the result. So “Add two and three” would return 5 and “Divide nine by three” would return 3. \n",
    "\n",
    "The user should enter only the words in lower case for the numbers 0 through 9 and specify the four mathematical operation in the following syntax:\n",
    "* Add X and Y\n",
    "* Subtract X from Y\n",
    "* Multiply X by Y\n",
    "* Divide X by Y\n",
    "\n",
    "Please think about what data structure should be used to convert a numeral word to its correponding number.\n",
    "\n",
    "Please print an warning message, \"Invalid Input\", for the following exceptions in the input:\n",
    "* Numbers outside the range of 0 to 9\n",
    "* Operations not in the specified syntax\n",
    "* Division by zero\n",
    "\n",
    "Some examples are provided below:"
   ]
  },
  {
   "cell_type": "raw",
   "metadata": {},
   "source": [
    "Please enter a math question:  Multiply ten by two\n",
    "Invalid input!"
   ]
  },
  {
   "cell_type": "raw",
   "metadata": {},
   "source": [
    "Please enter a math question:  Multiply nine by two\n",
    "The answer is 18"
   ]
  },
  {
   "cell_type": "raw",
   "metadata": {},
   "source": [
    "Please enter a math question:  Divide six by zero\n",
    "Invalid input!"
   ]
  },
  {
   "cell_type": "raw",
   "metadata": {},
   "source": [
    "Please enter a math question:  Divide six by three\n",
    "The answer is 2"
   ]
  },
  {
   "cell_type": "raw",
   "metadata": {},
   "source": [
    "Please enter a math question:  Deduct three from five\n",
    "Invalid input!"
   ]
  },
  {
   "cell_type": "raw",
   "metadata": {},
   "source": [
    "Please enter a math question:  Subtract three from five\n",
    "The answer is 2"
   ]
  },
  {
   "cell_type": "code",
   "execution_count": null,
   "metadata": {},
   "outputs": [],
   "source": []
  },
  {
   "cell_type": "markdown",
   "metadata": {},
   "source": [
    "#### Problem 3 (20 points)\n",
    "\n",
    "0. Please import the CSV dataset below to a data frame (4 points): \n",
    "\n",
    "https://vincentarelbundock.github.io/Rdatasets/csv/HSAUR/Forbes2000.csv\n",
    "\n",
    "The columns are explained at\n",
    "https://vincentarelbundock.github.io/Rdatasets/doc/HSAUR/Forbes2000.html\n",
    "\n",
    "Please implement the following tasks\n",
    "\n",
    "1. Filter the data frame to find the six companies that have names with the first word as \"General\" (e.g. General Electric, General Motors, General Mills, etc) and store them in a separate data frame. (4 points)\n",
    "\n",
    "2. Provide the descriptive statistics and make a histogram for the profits of all the companies in the United States (4 points)\n",
    "\n",
    "3. Draw a scatterplot between the assets column and the marketvalue column of all companies (4 points) \n",
    "\n",
    "4. Create a new CSV file that contains companies in the category of Drugs & biotechnology located in the United States (4 points)"
   ]
  },
  {
   "cell_type": "code",
   "execution_count": 9,
   "metadata": {},
   "outputs": [],
   "source": []
  },
  {
   "cell_type": "code",
   "execution_count": 10,
   "metadata": {},
   "outputs": [
    {
     "data": {
      "text/html": [
       "<div>\n",
       "<style scoped>\n",
       "    .dataframe tbody tr th:only-of-type {\n",
       "        vertical-align: middle;\n",
       "    }\n",
       "\n",
       "    .dataframe tbody tr th {\n",
       "        vertical-align: top;\n",
       "    }\n",
       "\n",
       "    .dataframe thead th {\n",
       "        text-align: right;\n",
       "    }\n",
       "</style>\n",
       "<table border=\"1\" class=\"dataframe\">\n",
       "  <thead>\n",
       "    <tr style=\"text-align: right;\">\n",
       "      <th></th>\n",
       "      <th>Unnamed: 0</th>\n",
       "      <th>rank</th>\n",
       "      <th>name</th>\n",
       "      <th>country</th>\n",
       "      <th>category</th>\n",
       "      <th>sales</th>\n",
       "      <th>profits</th>\n",
       "      <th>assets</th>\n",
       "      <th>marketvalue</th>\n",
       "    </tr>\n",
       "  </thead>\n",
       "  <tbody>\n",
       "    <tr>\n",
       "      <th>1</th>\n",
       "      <td>2</td>\n",
       "      <td>2</td>\n",
       "      <td>General Electric</td>\n",
       "      <td>United States</td>\n",
       "      <td>Conglomerates</td>\n",
       "      <td>134.19</td>\n",
       "      <td>15.59</td>\n",
       "      <td>626.93</td>\n",
       "      <td>328.54</td>\n",
       "    </tr>\n",
       "    <tr>\n",
       "      <th>28</th>\n",
       "      <td>29</td>\n",
       "      <td>29</td>\n",
       "      <td>General Motors</td>\n",
       "      <td>United States</td>\n",
       "      <td>Consumer durables</td>\n",
       "      <td>185.52</td>\n",
       "      <td>3.82</td>\n",
       "      <td>450.00</td>\n",
       "      <td>27.47</td>\n",
       "    </tr>\n",
       "    <tr>\n",
       "      <th>240</th>\n",
       "      <td>241</td>\n",
       "      <td>241</td>\n",
       "      <td>General Dynamics</td>\n",
       "      <td>United States</td>\n",
       "      <td>Aerospace &amp; defense</td>\n",
       "      <td>15.72</td>\n",
       "      <td>0.88</td>\n",
       "      <td>15.88</td>\n",
       "      <td>18.99</td>\n",
       "    </tr>\n",
       "    <tr>\n",
       "      <th>251</th>\n",
       "      <td>252</td>\n",
       "      <td>252</td>\n",
       "      <td>General Mills</td>\n",
       "      <td>United States</td>\n",
       "      <td>Food drink &amp; tobacco</td>\n",
       "      <td>10.77</td>\n",
       "      <td>1.00</td>\n",
       "      <td>18.78</td>\n",
       "      <td>16.81</td>\n",
       "    </tr>\n",
       "    <tr>\n",
       "      <th>998</th>\n",
       "      <td>999</td>\n",
       "      <td>999</td>\n",
       "      <td>General Growth Prop</td>\n",
       "      <td>United States</td>\n",
       "      <td>Diversified financials</td>\n",
       "      <td>1.16</td>\n",
       "      <td>0.25</td>\n",
       "      <td>8.86</td>\n",
       "      <td>6.52</td>\n",
       "    </tr>\n",
       "    <tr>\n",
       "      <th>1120</th>\n",
       "      <td>1121</td>\n",
       "      <td>1121</td>\n",
       "      <td>General Property Trust</td>\n",
       "      <td>Australia</td>\n",
       "      <td>Diversified financials</td>\n",
       "      <td>0.46</td>\n",
       "      <td>0.32</td>\n",
       "      <td>5.79</td>\n",
       "      <td>4.60</td>\n",
       "    </tr>\n",
       "  </tbody>\n",
       "</table>\n",
       "</div>"
      ],
      "text/plain": [
       "      Unnamed: 0  rank                    name        country  \\\n",
       "1              2     2        General Electric  United States   \n",
       "28            29    29          General Motors  United States   \n",
       "240          241   241        General Dynamics  United States   \n",
       "251          252   252           General Mills  United States   \n",
       "998          999   999     General Growth Prop  United States   \n",
       "1120        1121  1121  General Property Trust      Australia   \n",
       "\n",
       "                    category   sales  profits  assets  marketvalue  \n",
       "1              Conglomerates  134.19    15.59  626.93       328.54  \n",
       "28         Consumer durables  185.52     3.82  450.00        27.47  \n",
       "240      Aerospace & defense   15.72     0.88   15.88        18.99  \n",
       "251     Food drink & tobacco   10.77     1.00   18.78        16.81  \n",
       "998   Diversified financials    1.16     0.25    8.86         6.52  \n",
       "1120  Diversified financials    0.46     0.32    5.79         4.60  "
      ]
     },
     "execution_count": 10,
     "metadata": {},
     "output_type": "execute_result"
    }
   ],
   "source": []
  },
  {
   "cell_type": "code",
   "execution_count": 11,
   "metadata": {},
   "outputs": [
    {
     "data": {
      "image/png": "[encoded data removed]",
      "text/plain": [
       "<Figure size 432x288 with 1 Axes>"
      ]
     },
     "metadata": {
      "needs_background": "light"
     },
     "output_type": "display_data"
    }
   ],
   "source": []
  },
  {
   "cell_type": "code",
   "execution_count": 12,
   "metadata": {},
   "outputs": [
    {
     "data": {
      "text/plain": [
       "count    748.000000\n",
       "mean       0.651604\n",
       "std        1.789423\n",
       "min       -4.450000\n",
       "25%        0.130000\n",
       "50%        0.240000\n",
       "75%        0.582500\n",
       "max       20.960000\n",
       "Name: profits, dtype: float64"
      ]
     },
     "execution_count": 12,
     "metadata": {},
     "output_type": "execute_result"
    }
   ],
   "source": []
  },
  {
   "cell_type": "code",
   "execution_count": 13,
   "metadata": {},
   "outputs": [
    {
     "data": {
      "text/plain": [
       "<matplotlib.axes._subplots.AxesSubplot at 0x7fcefc0c98d0>"
      ]
     },
     "execution_count": 13,
     "metadata": {},
     "output_type": "execute_result"
    },
    {
     "data": {
      "image/png": "[encoded data removed]",
      "text/plain": [
       "<Figure size 432x288 with 1 Axes>"
      ]
     },
     "metadata": {
      "needs_background": "light"
     },
     "output_type": "display_data"
    }
   ],
   "source": []
  },
  {
   "cell_type": "code",
   "execution_count": 14,
   "metadata": {},
   "outputs": [
    {
     "data": {
      "text/html": [
       "<div>\n",
       "<style scoped>\n",
       "    .dataframe tbody tr th:only-of-type {\n",
       "        vertical-align: middle;\n",
       "    }\n",
       "\n",
       "    .dataframe tbody tr th {\n",
       "        vertical-align: top;\n",
       "    }\n",
       "\n",
       "    .dataframe thead th {\n",
       "        text-align: right;\n",
       "    }\n",
       "</style>\n",
       "<table border=\"1\" class=\"dataframe\">\n",
       "  <thead>\n",
       "    <tr style=\"text-align: right;\">\n",
       "      <th></th>\n",
       "      <th>Unnamed: 0</th>\n",
       "      <th>rank</th>\n",
       "      <th>name</th>\n",
       "      <th>country</th>\n",
       "      <th>category</th>\n",
       "      <th>sales</th>\n",
       "      <th>profits</th>\n",
       "      <th>assets</th>\n",
       "      <th>marketvalue</th>\n",
       "    </tr>\n",
       "  </thead>\n",
       "  <tbody>\n",
       "    <tr>\n",
       "      <th>23</th>\n",
       "      <td>24</td>\n",
       "      <td>24</td>\n",
       "      <td>Pfizer</td>\n",
       "      <td>United States</td>\n",
       "      <td>Drugs &amp; biotechnology</td>\n",
       "      <td>40.36</td>\n",
       "      <td>6.20</td>\n",
       "      <td>120.06</td>\n",
       "      <td>285.27</td>\n",
       "    </tr>\n",
       "    <tr>\n",
       "      <th>45</th>\n",
       "      <td>46</td>\n",
       "      <td>46</td>\n",
       "      <td>Johnson &amp; Johnson</td>\n",
       "      <td>United States</td>\n",
       "      <td>Drugs &amp; biotechnology</td>\n",
       "      <td>40.01</td>\n",
       "      <td>6.74</td>\n",
       "      <td>46.66</td>\n",
       "      <td>160.96</td>\n",
       "    </tr>\n",
       "    <tr>\n",
       "      <th>62</th>\n",
       "      <td>63</td>\n",
       "      <td>63</td>\n",
       "      <td>Merck &amp; Co</td>\n",
       "      <td>United States</td>\n",
       "      <td>Drugs &amp; biotechnology</td>\n",
       "      <td>30.78</td>\n",
       "      <td>7.33</td>\n",
       "      <td>42.59</td>\n",
       "      <td>108.76</td>\n",
       "    </tr>\n",
       "    <tr>\n",
       "      <th>117</th>\n",
       "      <td>118</td>\n",
       "      <td>118</td>\n",
       "      <td>Bristol-Myers Squibb</td>\n",
       "      <td>United States</td>\n",
       "      <td>Drugs &amp; biotechnology</td>\n",
       "      <td>19.89</td>\n",
       "      <td>2.90</td>\n",
       "      <td>26.53</td>\n",
       "      <td>56.05</td>\n",
       "    </tr>\n",
       "    <tr>\n",
       "      <th>120</th>\n",
       "      <td>121</td>\n",
       "      <td>121</td>\n",
       "      <td>Abbott Laboratories</td>\n",
       "      <td>United States</td>\n",
       "      <td>Drugs &amp; biotechnology</td>\n",
       "      <td>18.99</td>\n",
       "      <td>2.44</td>\n",
       "      <td>26.15</td>\n",
       "      <td>69.27</td>\n",
       "    </tr>\n",
       "    <tr>\n",
       "      <th>128</th>\n",
       "      <td>129</td>\n",
       "      <td>129</td>\n",
       "      <td>Wyeth</td>\n",
       "      <td>United States</td>\n",
       "      <td>Drugs &amp; biotechnology</td>\n",
       "      <td>15.33</td>\n",
       "      <td>3.29</td>\n",
       "      <td>28.24</td>\n",
       "      <td>56.35</td>\n",
       "    </tr>\n",
       "    <tr>\n",
       "      <th>164</th>\n",
       "      <td>165</td>\n",
       "      <td>165</td>\n",
       "      <td>Eli Lilly and Co</td>\n",
       "      <td>United States</td>\n",
       "      <td>Drugs &amp; biotechnology</td>\n",
       "      <td>12.58</td>\n",
       "      <td>2.56</td>\n",
       "      <td>21.68</td>\n",
       "      <td>82.53</td>\n",
       "    </tr>\n",
       "    <tr>\n",
       "      <th>180</th>\n",
       "      <td>181</td>\n",
       "      <td>181</td>\n",
       "      <td>Amgen</td>\n",
       "      <td>United States</td>\n",
       "      <td>Drugs &amp; biotechnology</td>\n",
       "      <td>8.36</td>\n",
       "      <td>2.26</td>\n",
       "      <td>26.18</td>\n",
       "      <td>83.02</td>\n",
       "    </tr>\n",
       "    <tr>\n",
       "      <th>339</th>\n",
       "      <td>340</td>\n",
       "      <td>340</td>\n",
       "      <td>Schering-Plough</td>\n",
       "      <td>United States</td>\n",
       "      <td>Drugs &amp; biotechnology</td>\n",
       "      <td>8.82</td>\n",
       "      <td>0.40</td>\n",
       "      <td>14.34</td>\n",
       "      <td>27.05</td>\n",
       "    </tr>\n",
       "    <tr>\n",
       "      <th>822</th>\n",
       "      <td>823</td>\n",
       "      <td>823</td>\n",
       "      <td>Forest Labs</td>\n",
       "      <td>United States</td>\n",
       "      <td>Drugs &amp; biotechnology</td>\n",
       "      <td>2.43</td>\n",
       "      <td>0.72</td>\n",
       "      <td>3.23</td>\n",
       "      <td>27.26</td>\n",
       "    </tr>\n",
       "    <tr>\n",
       "      <th>1122</th>\n",
       "      <td>1123</td>\n",
       "      <td>1123</td>\n",
       "      <td>Chiron</td>\n",
       "      <td>United States</td>\n",
       "      <td>Drugs &amp; biotechnology</td>\n",
       "      <td>1.72</td>\n",
       "      <td>0.23</td>\n",
       "      <td>4.20</td>\n",
       "      <td>9.60</td>\n",
       "    </tr>\n",
       "    <tr>\n",
       "      <th>1248</th>\n",
       "      <td>1249</td>\n",
       "      <td>1249</td>\n",
       "      <td>Mylan Labs</td>\n",
       "      <td>United States</td>\n",
       "      <td>Drugs &amp; biotechnology</td>\n",
       "      <td>1.39</td>\n",
       "      <td>0.33</td>\n",
       "      <td>1.88</td>\n",
       "      <td>6.52</td>\n",
       "    </tr>\n",
       "    <tr>\n",
       "      <th>1266</th>\n",
       "      <td>1267</td>\n",
       "      <td>1267</td>\n",
       "      <td>Biogen Idec</td>\n",
       "      <td>United States</td>\n",
       "      <td>Drugs &amp; biotechnology</td>\n",
       "      <td>0.50</td>\n",
       "      <td>0.16</td>\n",
       "      <td>2.24</td>\n",
       "      <td>14.25</td>\n",
       "    </tr>\n",
       "    <tr>\n",
       "      <th>1418</th>\n",
       "      <td>1419</td>\n",
       "      <td>1419</td>\n",
       "      <td>MedImmune</td>\n",
       "      <td>United States</td>\n",
       "      <td>Drugs &amp; biotechnology</td>\n",
       "      <td>1.05</td>\n",
       "      <td>0.18</td>\n",
       "      <td>2.79</td>\n",
       "      <td>6.44</td>\n",
       "    </tr>\n",
       "    <tr>\n",
       "      <th>1430</th>\n",
       "      <td>1431</td>\n",
       "      <td>1431</td>\n",
       "      <td>Watson Pharma</td>\n",
       "      <td>United States</td>\n",
       "      <td>Drugs &amp; biotechnology</td>\n",
       "      <td>1.46</td>\n",
       "      <td>0.20</td>\n",
       "      <td>3.28</td>\n",
       "      <td>5.30</td>\n",
       "    </tr>\n",
       "    <tr>\n",
       "      <th>1475</th>\n",
       "      <td>1476</td>\n",
       "      <td>1476</td>\n",
       "      <td>Genzyme-General</td>\n",
       "      <td>United States</td>\n",
       "      <td>Drugs &amp; biotechnology</td>\n",
       "      <td>1.54</td>\n",
       "      <td>-0.09</td>\n",
       "      <td>4.33</td>\n",
       "      <td>12.41</td>\n",
       "    </tr>\n",
       "    <tr>\n",
       "      <th>1521</th>\n",
       "      <td>1522</td>\n",
       "      <td>1522</td>\n",
       "      <td>Barr Pharmaceuticals</td>\n",
       "      <td>United States</td>\n",
       "      <td>Drugs &amp; biotechnology</td>\n",
       "      <td>1.15</td>\n",
       "      <td>0.16</td>\n",
       "      <td>1.21</td>\n",
       "      <td>5.31</td>\n",
       "    </tr>\n",
       "    <tr>\n",
       "      <th>1644</th>\n",
       "      <td>1645</td>\n",
       "      <td>1645</td>\n",
       "      <td>IVAX</td>\n",
       "      <td>United States</td>\n",
       "      <td>Drugs &amp; biotechnology</td>\n",
       "      <td>1.35</td>\n",
       "      <td>0.13</td>\n",
       "      <td>2.19</td>\n",
       "      <td>5.01</td>\n",
       "    </tr>\n",
       "    <tr>\n",
       "      <th>1691</th>\n",
       "      <td>1692</td>\n",
       "      <td>1692</td>\n",
       "      <td>Gilead Sciences</td>\n",
       "      <td>United States</td>\n",
       "      <td>Drugs &amp; biotechnology</td>\n",
       "      <td>0.87</td>\n",
       "      <td>-0.07</td>\n",
       "      <td>1.55</td>\n",
       "      <td>11.81</td>\n",
       "    </tr>\n",
       "    <tr>\n",
       "      <th>1696</th>\n",
       "      <td>1697</td>\n",
       "      <td>1697</td>\n",
       "      <td>Allergan</td>\n",
       "      <td>United States</td>\n",
       "      <td>Drugs &amp; biotechnology</td>\n",
       "      <td>1.77</td>\n",
       "      <td>-0.05</td>\n",
       "      <td>1.75</td>\n",
       "      <td>11.72</td>\n",
       "    </tr>\n",
       "    <tr>\n",
       "      <th>1708</th>\n",
       "      <td>1709</td>\n",
       "      <td>1709</td>\n",
       "      <td>Cephalon</td>\n",
       "      <td>United States</td>\n",
       "      <td>Drugs &amp; biotechnology</td>\n",
       "      <td>0.62</td>\n",
       "      <td>0.19</td>\n",
       "      <td>2.34</td>\n",
       "      <td>3.18</td>\n",
       "    </tr>\n",
       "  </tbody>\n",
       "</table>\n",
       "</div>"
      ],
      "text/plain": [
       "      Unnamed: 0  rank                  name        country  \\\n",
       "23            24    24                Pfizer  United States   \n",
       "45            46    46     Johnson & Johnson  United States   \n",
       "62            63    63            Merck & Co  United States   \n",
       "117          118   118  Bristol-Myers Squibb  United States   \n",
       "120          121   121   Abbott Laboratories  United States   \n",
       "128          129   129                 Wyeth  United States   \n",
       "164          165   165      Eli Lilly and Co  United States   \n",
       "180          181   181                 Amgen  United States   \n",
       "339          340   340       Schering-Plough  United States   \n",
       "822          823   823           Forest Labs  United States   \n",
       "1122        1123  1123                Chiron  United States   \n",
       "1248        1249  1249            Mylan Labs  United States   \n",
       "1266        1267  1267           Biogen Idec  United States   \n",
       "1418        1419  1419             MedImmune  United States   \n",
       "1430        1431  1431         Watson Pharma  United States   \n",
       "1475        1476  1476       Genzyme-General  United States   \n",
       "1521        1522  1522  Barr Pharmaceuticals  United States   \n",
       "1644        1645  1645                  IVAX  United States   \n",
       "1691        1692  1692       Gilead Sciences  United States   \n",
       "1696        1697  1697              Allergan  United States   \n",
       "1708        1709  1709              Cephalon  United States   \n",
       "\n",
       "                   category  sales  profits  assets  marketvalue  \n",
       "23    Drugs & biotechnology  40.36     6.20  120.06       285.27  \n",
       "45    Drugs & biotechnology  40.01     6.74   46.66       160.96  \n",
       "62    Drugs & biotechnology  30.78     7.33   42.59       108.76  \n",
       "117   Drugs & biotechnology  19.89     2.90   26.53        56.05  \n",
       "120   Drugs & biotechnology  18.99     2.44   26.15        69.27  \n",
       "128   Drugs & biotechnology  15.33     3.29   28.24        56.35  \n",
       "164   Drugs & biotechnology  12.58     2.56   21.68        82.53  \n",
       "180   Drugs & biotechnology   8.36     2.26   26.18        83.02  \n",
       "339   Drugs & biotechnology   8.82     0.40   14.34        27.05  \n",
       "822   Drugs & biotechnology   2.43     0.72    3.23        27.26  \n",
       "1122  Drugs & biotechnology   1.72     0.23    4.20         9.60  \n",
       "1248  Drugs & biotechnology   1.39     0.33    1.88         6.52  \n",
       "1266  Drugs & biotechnology   0.50     0.16    2.24        14.25  \n",
       "1418  Drugs & biotechnology   1.05     0.18    2.79         6.44  \n",
       "1430  Drugs & biotechnology   1.46     0.20    3.28         5.30  \n",
       "1475  Drugs & biotechnology   1.54    -0.09    4.33        12.41  \n",
       "1521  Drugs & biotechnology   1.15     0.16    1.21         5.31  \n",
       "1644  Drugs & biotechnology   1.35     0.13    2.19         5.01  \n",
       "1691  Drugs & biotechnology   0.87    -0.07    1.55        11.81  \n",
       "1696  Drugs & biotechnology   1.77    -0.05    1.75        11.72  \n",
       "1708  Drugs & biotechnology   0.62     0.19    2.34         3.18  "
      ]
     },
     "execution_count": 14,
     "metadata": {},
     "output_type": "execute_result"
    }
   ],
   "source": []
  },
  {
   "cell_type": "markdown",
   "metadata": {},
   "source": [
    "#### Problem 4 (20 points)\n",
    "\n",
    "Check out the Breast Cancer Wisconsin Diagnostic dataset that’s bundled with scikit-learn\n",
    "https://scikit-learn.org/stable/datasets/index.html#breast-cancer-dataset\n",
    "\n",
    "The dataset contains 569 samples, each with 30 features and a label indicating whether a tumor was malignant (0) or benign (1). There are only two labels, so this dataset is commonly used to perform binary classification. Using this dataset, reimplement the steps of this chapter’s classification case study in Sections 15.2–15.3 using the Gaussian Naive Bayes algorithm. \n",
    "\n",
    "When you execute multiple classifiers (as in Section 15.3.3) to determine which one is best for the Breast Cancer Wisconsin Diagnostic dataset, include the K-nearest neighbor, Support Vector Machine (SVM), and Gaussian Naive Bayes, in the estimators dictionary. \n"
   ]
  },
  {
   "cell_type": "code",
   "execution_count": 15,
   "metadata": {},
   "outputs": [
    {
     "name": "stdout",
     "output_type": "stream",
     "text": [
      ".. _breast_cancer_dataset:\n",
      "\n",
      "Breast cancer wisconsin (diagnostic) dataset\n",
      "--------------------------------------------\n",
      "\n",
      "**Data Set Characteristics:**\n",
      "\n",
      "    :Number of Instances: 569\n",
      "\n",
      "    :Number of Attributes: 30 numeric, predictive attributes and the class\n",
      "\n",
      "    :Attribute Information:\n",
      "        - radius (mean of distances from center to points on the perimeter)\n",
      "        - texture (standard deviation of gray-scale values)\n",
      "        - perimeter\n",
      "        - area\n",
      "        - smoothness (local variation in radius lengths)\n",
      "        - compactness (perimeter^2 / area - 1.0)\n",
      "        - concavity (severity of concave portions of the contour)\n",
      "        - concave points (number of concave portions of the contour)\n",
      "        - symmetry \n",
      "        - fractal dimension (\"coastline approximation\" - 1)\n",
      "\n",
      "        The mean, standard error, and \"worst\" or largest (mean of the three\n",
      "        largest values) of these features were computed for each image,\n",
      "        resulting in 30 features.  For instance, field 3 is Mean Radius, field\n",
      "        13 is Radius SE, field 23 is Worst Radius.\n",
      "\n",
      "        - class:\n",
      "                - WDBC-Malignant\n",
      "                - WDBC-Benign\n",
      "\n",
      "    :Summary Statistics:\n",
      "\n",
      "    ===================================== ====== ======\n",
      "                                           Min    Max\n",
      "    ===================================== ====== ======\n",
      "    radius (mean):                        6.981  28.11\n",
      "    texture (mean):                       9.71   39.28\n",
      "    perimeter (mean):                     43.79  188.5\n",
      "    area (mean):                          143.5  2501.0\n",
      "    smoothness (mean):                    0.053  0.163\n",
      "    compactness (mean):                   0.019  0.345\n",
      "    concavity (mean):                     0.0    0.427\n",
      "    concave points (mean):                0.0    0.201\n",
      "    symmetry (mean):                      0.106  0.304\n",
      "    fractal dimension (mean):             0.05   0.097\n",
      "    radius (standard error):              0.112  2.873\n",
      "    texture (standard error):             0.36   4.885\n",
      "    perimeter (standard error):           0.757  21.98\n",
      "    area (standard error):                6.802  542.2\n",
      "    smoothness (standard error):          0.002  0.031\n",
      "    compactness (standard error):         0.002  0.135\n",
      "    concavity (standard error):           0.0    0.396\n",
      "    concave points (standard error):      0.0    0.053\n",
      "    symmetry (standard error):            0.008  0.079\n",
      "    fractal dimension (standard error):   0.001  0.03\n",
      "    radius (worst):                       7.93   36.04\n",
      "    texture (worst):                      12.02  49.54\n",
      "    perimeter (worst):                    50.41  251.2\n",
      "    area (worst):                         185.2  4254.0\n",
      "    smoothness (worst):                   0.071  0.223\n",
      "    compactness (worst):                  0.027  1.058\n",
      "    concavity (worst):                    0.0    1.252\n",
      "    concave points (worst):               0.0    0.291\n",
      "    symmetry (worst):                     0.156  0.664\n",
      "    fractal dimension (worst):            0.055  0.208\n",
      "    ===================================== ====== ======\n",
      "\n",
      "    :Missing Attribute Values: None\n",
      "\n",
      "    :Class Distribution: 212 - Malignant, 357 - Benign\n",
      "\n",
      "    :Creator:  Dr. William H. Wolberg, W. Nick Street, Olvi L. Mangasarian\n",
      "\n",
      "    :Donor: Nick Street\n",
      "\n",
      "    :Date: November, 1995\n",
      "\n",
      "This is a copy of UCI ML Breast Cancer Wisconsin (Diagnostic) datasets.\n",
      "https://goo.gl/U2Uwz2\n",
      "\n",
      "Features are computed from a digitized image of a fine needle\n",
      "aspirate (FNA) of a breast mass.  They describe\n",
      "characteristics of the cell nuclei present in the image.\n",
      "\n",
      "Separating plane described above was obtained using\n",
      "Multisurface Method-Tree (MSM-T) [K. P. Bennett, \"Decision Tree\n",
      "Construction Via Linear Programming.\" Proceedings of the 4th\n",
      "Midwest Artificial Intelligence and Cognitive Science Society,\n",
      "pp. 97-101, 1992], a classification method which uses linear\n",
      "programming to construct a decision tree.  Relevant features\n",
      "were selected using an exhaustive search in the space of 1-4\n",
      "features and 1-3 separating planes.\n",
      "\n",
      "The actual linear program used to obtain the separating plane\n",
      "in the 3-dimensional space is that described in:\n",
      "[K. P. Bennett and O. L. Mangasarian: \"Robust Linear\n",
      "Programming Discrimination of Two Linearly Inseparable Sets\",\n",
      "Optimization Methods and Software 1, 1992, 23-34].\n",
      "\n",
      "This database is also available through the UW CS ftp server:\n",
      "\n",
      "ftp ftp.cs.wisc.edu\n",
      "cd math-prog/cpo-dataset/machine-learn/WDBC/\n",
      "\n",
      ".. topic:: References\n",
      "\n",
      "   - W.N. Street, W.H. Wolberg and O.L. Mangasarian. Nuclear feature extraction \n",
      "     for breast tumor diagnosis. IS&T/SPIE 1993 International Symposium on \n",
      "     Electronic Imaging: Science and Technology, volume 1905, pages 861-870,\n",
      "     San Jose, CA, 1993.\n",
      "   - O.L. Mangasarian, W.N. Street and W.H. Wolberg. Breast cancer diagnosis and \n",
      "     prognosis via linear programming. Operations Research, 43(4), pages 570-577, \n",
      "     July-August 1995.\n",
      "   - W.H. Wolberg, W.N. Street, and O.L. Mangasarian. Machine learning techniques\n",
      "     to diagnose breast cancer from fine-needle aspirates. Cancer Letters 77 (1994) \n",
      "     163-171.\n"
     ]
    }
   ],
   "source": [
    "# Loading the Dataset\n",
    "from sklearn.datasets import load_breast_cancer\n",
    "\n",
    "breast_cancer = load_breast_cancer()\n",
    "\n",
    "# Displaying the Description\n",
    "print(breast_cancer.DESCR)\n"
   ]
  },
  {
   "cell_type": "code",
   "execution_count": 16,
   "metadata": {},
   "outputs": [
    {
     "data": {
      "text/plain": [
       "array([0, 0, 1, 0, 0, 1, 1, 0, 1, 1, 0, 1, 1, 1, 1, 1, 1, 1, 0, 0, 1, 0,\n",
       "       1, 0, 1, 0, 0, 1, 0, 1, 0, 1, 1, 0, 1, 1, 1, 0, 1, 1, 0, 1, 1, 0,\n",
       "       1, 1, 0, 1, 1, 1, 1, 1, 1, 1, 1, 1, 1])"
      ]
     },
     "execution_count": 16,
     "metadata": {},
     "output_type": "execute_result"
    }
   ],
   "source": [
    "# Checking the Sample and Target Sizes\n",
    "breast_cancer.target[::10]"
   ]
  },
  {
   "cell_type": "code",
   "execution_count": 17,
   "metadata": {},
   "outputs": [
    {
     "data": {
      "text/plain": [
       "(569, 30)"
      ]
     },
     "execution_count": 17,
     "metadata": {},
     "output_type": "execute_result"
    }
   ],
   "source": [
    "breast_cancer.data.shape"
   ]
  },
  {
   "cell_type": "code",
   "execution_count": 18,
   "metadata": {},
   "outputs": [
    {
     "data": {
      "text/plain": [
       "(569,)"
      ]
     },
     "execution_count": 18,
     "metadata": {},
     "output_type": "execute_result"
    }
   ],
   "source": [
    "breast_cancer.target.shape"
   ]
  },
  {
   "cell_type": "markdown",
   "metadata": {},
   "source": [
    "#### Problem 4.1 (5 points): \n",
    "\n",
    "1. Splitting the Data for Training and Testing (1.5 points)\n",
    "\n",
    "2. Training the Model with the `GaussianNB` Object’s **`fit` method** (1.5 points)\n",
    "\n",
    "3. Predicting Digit Classes with the `GaussianNB`’s  **`predict` method** (2 points)"
   ]
  },
  {
   "cell_type": "code",
   "execution_count": 19,
   "metadata": {},
   "outputs": [],
   "source": []
  },
  {
   "cell_type": "markdown",
   "metadata": {},
   "source": [
    "#### Problem 4.2 (5 points): \n",
    "\n",
    "Print out the Metrics for Measuring Model Accuracy using Estimator Method `score` (2 points)\n",
    "* Returns an **indication of how well the estimator performs** on **test data** \n",
    "* For **classification estimators**, returns the **prediction accuracy** for the test data:\n",
    "\n",
    "Print out the Confusion Matrix (3 points)\n",
    "* Shows correct and incorrect predicted values (the **hits** and **misses**) for a given class"
   ]
  },
  {
   "cell_type": "code",
   "execution_count": 20,
   "metadata": {},
   "outputs": [
    {
     "name": "stdout",
     "output_type": "stream",
     "text": [
      "95.10%\n"
     ]
    }
   ],
   "source": []
  },
  {
   "cell_type": "code",
   "execution_count": 21,
   "metadata": {},
   "outputs": [
    {
     "data": {
      "text/plain": [
       "array([[44,  6],\n",
       "       [ 1, 92]])"
      ]
     },
     "execution_count": 21,
     "metadata": {},
     "output_type": "execute_result"
    }
   ],
   "source": []
  },
  {
   "cell_type": "markdown",
   "metadata": {},
   "source": [
    "#### Problem 4.3 (5 points): \n",
    "\n",
    "##### Create 10-fold cross-validation to better benchmark the accuracy of your model (2 points)\n",
    "* Uses **all of your data** for **training and testing**\n",
    "* Gives a better sense of how well your model will make predictions\n",
    "* **Splits the dataset** into **_k_ equal-size folds** (unrelated to**&nbsp;k** in the k-nearest neighbors algorithm)\n",
    "* **Repeatedly trains** your model with **_k_ – 1 folds** and **test the model** with the **remaining fold**\n",
    "\n",
    "##### Calling Function `cross_val_score` to Train and Test Your Model (3 points)\n",
    "Print the mean and standard deviation of the accuracy"
   ]
  },
  {
   "cell_type": "code",
   "execution_count": 22,
   "metadata": {},
   "outputs": [
    {
     "name": "stdout",
     "output_type": "stream",
     "text": [
      "Mean accuracy: 93.85%\n",
      "Accuracy standard deviation: 2.75%\n"
     ]
    }
   ],
   "source": []
  },
  {
   "cell_type": "markdown",
   "metadata": {},
   "source": [
    "#### Problem 4.4 (5 points): \n",
    "\n",
    " Running Multiple Models to Find the Best One\n",
    "* **Difficult to know in advance** which machine learning model(s) will **perform best for a given dataset**\n",
    "    * Especially when they hide the details of how they operate\n",
    "* Let’s **compare** **`KNeighborsClassifier`**, **`SVC`** and **`GaussianNB`**\n",
    "\n",
    "Print out the mean and standard deviation of the accuracy for each method."
   ]
  },
  {
   "cell_type": "code",
   "execution_count": 23,
   "metadata": {},
   "outputs": [
    {
     "name": "stdout",
     "output_type": "stream",
     "text": [
      "          GaussianNB: mean accuracy=93.85%; standard deviation=2.75%\n",
      "KNeighborsClassifier: mean accuracy=92.79%; standard deviation=2.01%\n",
      "                 SVC: mean accuracy=91.92%; standard deviation=3.52%\n"
     ]
    }
   ],
   "source": [
    "\n"
   ]
  },
  {
   "cell_type": "code",
   "execution_count": null,
   "metadata": {},
   "outputs": [],
   "source": []
  }
 ],
 "metadata": {
  "kernelspec": {
   "display_name": "Python 3 (ipykernel)",
   "language": "python",
   "name": "python3"
  },
  "language_info": {
   "codemirror_mode": {
    "name": "ipython",
    "version": 3
   },
   "file_extension": ".py",
   "mimetype": "text/x-python",
   "name": "python",
   "nbconvert_exporter": "python",
   "pygments_lexer": "ipython3",
   "version": "3.9.13"
  }
 },
 "nbformat": 4,
 "nbformat_minor": 4
}
